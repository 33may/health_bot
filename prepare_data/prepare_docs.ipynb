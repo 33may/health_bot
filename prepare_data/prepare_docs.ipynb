{
 "cells": [
  {
   "cell_type": "code",
   "id": "604b14e94da0b7e6",
   "metadata": {
    "ExecuteTime": {
     "end_time": "2025-02-09T01:47:32.984954Z",
     "start_time": "2025-02-09T01:47:32.927901Z"
    }
   },
   "source": "from bs4 import BeautifulSoup",
   "outputs": [],
   "execution_count": 2
  },
  {
   "metadata": {
    "collapsed": true,
    "ExecuteTime": {
     "end_time": "2025-02-09T01:47:33.396531Z",
     "start_time": "2025-02-09T01:47:33.366292Z"
    }
   },
   "cell_type": "code",
   "source": [
    "with open(\"data.html\", \"r\", encoding=\"utf-8\") as file:\n",
    "    html_content = file.read()"
   ],
   "id": "initial_id",
   "outputs": [],
   "execution_count": 3
  },
  {
   "metadata": {
    "ExecuteTime": {
     "end_time": "2025-02-09T01:47:34.185133Z",
     "start_time": "2025-02-09T01:47:33.794363Z"
    }
   },
   "cell_type": "code",
   "source": "soup = BeautifulSoup(html_content, \"html.parser\")",
   "id": "904101a0fb5557bf",
   "outputs": [],
   "execution_count": 4
  },
  {
   "metadata": {
    "ExecuteTime": {
     "end_time": "2025-02-09T01:58:03.525483Z",
     "start_time": "2025-02-09T01:58:03.442035Z"
    }
   },
   "cell_type": "code",
   "source": [
    "documents = []\n",
    "for element in soup.find_all(class_=\"panel-default\"):\n",
    "    name = element.find(\"a\").text.strip()\n",
    "    # if \"Всі настанови. Формат для друку (PDF). Версія 1810T2P2Q1R2\".strip() in name or \"Аудіо. Версія 1810T0P0Q0R0\".strip() in name or \"Зображення. Версія 1810T0P0Q0R0\".strip() in name:\n",
    "    #     continue\n",
    "\n",
    "    if not \"General practice\\Загальна практика\".strip() in name:\n",
    "        continue\n",
    "\n",
    "    docs = element.find_all(\"a\")\n",
    "    for a_tag in docs:\n",
    "        if \"/documents/\" in a_tag[\"href\"]:\n",
    "            title_tag = a_tag.find(\"span\", class_=\"document-title\")\n",
    "            if title_tag:\n",
    "                title = title_tag.get_text(strip=True).replace(\">> \", \"\")\n",
    "                link = f\"https://guidelines.moz.gov.ua{a_tag['href']}\"\n",
    "                documents.append({\"name\": title, \"link\" : link})"
   ],
   "id": "1fe533a3bcc1d953",
   "outputs": [],
   "execution_count": 16
  },
  {
   "metadata": {},
   "cell_type": "code",
   "source": [
    "import os\n",
    "import requests"
   ],
   "id": "134c06db87fe11d0",
   "outputs": [],
   "execution_count": null
  },
  {
   "metadata": {},
   "cell_type": "code",
   "source": [
    "import os\n",
    "import time\n",
    "from tqdm import tqdm\n",
    "from selenium import webdriver\n",
    "from selenium.webdriver.chrome.options import Options\n",
    "from selenium.webdriver.chrome.service import Service\n",
    "from selenium_stealth import stealth\n",
    "\n",
    "# Папка для загрузки документов\n",
    "download_dir = os.path.join(os.getcwd(), \"documents\")\n",
    "os.makedirs(download_dir, exist_ok=True)\n",
    "\n",
    "# Настройка опций Chrome\n",
    "chrome_options = Options()\n",
    "# Указываем путь для автоматической загрузки файлов\n",
    "prefs = {\n",
    "    \"download.default_directory\": download_dir,\n",
    "    \"download.prompt_for_download\": False,\n",
    "    \"download.directory_upgrade\": True,\n",
    "    \"safebrowsing.enabled\": True\n",
    "}\n",
    "chrome_options.add_experimental_option(\"prefs\", prefs)\n",
    "\n",
    "# Добавляем аргументы для имитации реального браузера\n",
    "chrome_options.add_argument(\"start-maximized\")\n",
    "chrome_options.add_argument(\"--disable-blink-features=AutomationControlled\")\n",
    "chrome_options.add_experimental_option(\"excludeSwitches\", [\"enable-automation\"])\n",
    "chrome_options.add_experimental_option(\"useAutomationExtension\", False)\n",
    "chrome_options.add_argument(\"--disable-infobars\")\n",
    "chrome_options.add_argument(\"--disable-notifications\")\n",
    "chrome_options.add_argument(\"--disable-popup-blocking\")\n",
    "# Указываем реалистичный User-Agent (пример для Mac)\n",
    "chrome_options.add_argument(\"user-agent=Mozilla/5.0 (Macintosh; Intel Mac OS X 10_15_7) \"\n",
    "                            \"AppleWebKit/537.36 (KHTML, like Gecko) Chrome/117.0.0.0 Safari/537.36\")\n",
    "# Рекомендуется не использовать headless-режим для обхода защиты Cloudflare\n",
    "chrome_options.headless = False\n",
    "\n",
    "# Инициализация ChromeDriver (укажите корректный путь к chromedriver, если он не в PATH)\n",
    "service = Service('/usr/local/bin/chromedriver')\n",
    "driver = webdriver.Chrome(service=service, options=chrome_options)\n",
    "\n",
    "# Применяем selenium-stealth для сокрытия автоматизации\n",
    "stealth(driver,\n",
    "        languages=[\"en-US\", \"en\"],\n",
    "        vendor=\"Google Inc.\",\n",
    "        platform=\"MacIntel\",         # для Mac\n",
    "        webgl_vendor=\"Apple Inc.\",   # типичное значение для macOS\n",
    "        renderer=\"Apple GPU\",        # значение можно уточнить под вашу систему\n",
    "        fix_hairline=True)\n",
    "\n",
    "def wait_for_new_file(before_files, folder, timeout=30):\n",
    "    \"\"\"\n",
    "    Функция ожидает появления нового файла в папке folder,\n",
    "    которого не было в before_files.\n",
    "    Возвращает имя нового файла или None, если файл не появился за timeout секунд.\n",
    "    \"\"\"\n",
    "    seconds = 0\n",
    "    while seconds < timeout:\n",
    "        current_files = set(os.listdir(folder))\n",
    "        new_files = current_files - before_files\n",
    "        # Для Chrome временные файлы обычно имеют расширение .crdownload\n",
    "        new_files = [f for f in new_files if not f.endswith('.crdownload')]\n",
    "        if new_files:\n",
    "            return new_files[0]\n",
    "        time.sleep(1)\n",
    "        seconds += 1\n",
    "    return None\n",
    "\n",
    "\n",
    "for doc in tqdm(documents):\n",
    "    url = doc['link']\n",
    "    name = doc['name']\n",
    "\n",
    "    # Сохраняем список файлов в папке загрузок до начала скачивания\n",
    "    before = set(os.listdir(download_dir))\n",
    "\n",
    "    # Переходим по ссылке документа\n",
    "    driver.get(url)\n",
    "\n",
    "    # Даем время на начало загрузки файла (настройте задержку по необходимости)\n",
    "    time.sleep(5)\n",
    "\n",
    "    # Ожидаем появления нового файла в папке загрузки\n",
    "    new_file = wait_for_new_file(before, download_dir, timeout=30)\n",
    "    if new_file:\n",
    "        # Определяем расширение файла\n",
    "        ext = os.path.splitext(new_file)[1]\n",
    "        # Формируем безопасное имя файла (удаляем недопустимые символы)\n",
    "        safe_name = \"\".join(c for c in name if c not in r'\\/:*?\"<>|')\n",
    "        new_name = safe_name + ext\n",
    "        old_path = os.path.join(download_dir, new_file)\n",
    "        new_path = os.path.join(download_dir, new_name)\n",
    "        os.rename(old_path, new_path)\n",
    "        print(f\"Скачан: {new_path}\")\n",
    "    else:\n",
    "        print(f\"Не удалось скачать файл по ссылке: {url}\")\n",
    "\n",
    "driver.quit()\n"
   ],
   "id": "12b27ad4cd6e7f3",
   "outputs": [],
   "execution_count": null
  },
  {
   "metadata": {
    "ExecuteTime": {
     "end_time": "2025-02-09T02:01:02.364334Z",
     "start_time": "2025-02-09T01:58:25.841810Z"
    }
   },
   "cell_type": "code",
   "source": [
    "import os\n",
    "import time\n",
    "from tqdm import tqdm\n",
    "import undetected_chromedriver as uc\n",
    "\n",
    "def wait_for_new_file(before_files, folder, timeout=30):\n",
    "    \"\"\"\n",
    "    Функция ожидает появления нового файла в папке folder,\n",
    "    которого не было в before_files.\n",
    "    Возвращает имя нового файла или None, если файл не появился за timeout секунд.\n",
    "    \"\"\"\n",
    "    seconds = 0\n",
    "    while seconds < timeout:\n",
    "        current_files = set(os.listdir(folder))\n",
    "        new_files = current_files - before_files\n",
    "        # Для Chrome временные файлы обычно имеют расширение .crdownload\n",
    "        new_files = [f for f in new_files if not f.endswith('.crdownload')]\n",
    "        if new_files:\n",
    "            return new_files[0]\n",
    "        time.sleep(1)\n",
    "        seconds += 1\n",
    "    return None\n",
    "\n",
    "# Папка для загрузки документов\n",
    "download_dir = os.path.join(os.getcwd(), \"documents\")\n",
    "os.makedirs(download_dir, exist_ok=True)\n",
    "\n",
    "# Настройка опций для undetected‑chromedriver\n",
    "options = uc.ChromeOptions()\n",
    "prefs = {\n",
    "    \"download.default_directory\": download_dir,\n",
    "    \"download.prompt_for_download\": False,\n",
    "    \"download.directory_upgrade\": True,\n",
    "    \"safebrowsing.enabled\": True,\n",
    "    # Отключаем встроенный просмотр PDF, чтобы файлы скачивались\n",
    "    \"plugins.always_open_pdf_externally\": True\n",
    "}\n",
    "options.add_experimental_option(\"prefs\", prefs)\n",
    "\n",
    "# Добавляем аргументы для имитации реального браузера\n",
    "options.add_argument(\"start-maximized\")\n",
    "options.add_argument(\"--disable-blink-features=AutomationControlled\")\n",
    "options.add_argument(\"user-agent=Mozilla/5.0 (Macintosh; Intel Mac OS X 10_15_7) \"\n",
    "                     \"AppleWebKit/537.36 (KHTML, like Gecko) Chrome/117.0.0.0 Safari/537.36\")\n",
    "# Рекомендуется не использовать headless-режим для обхода защиты Cloudflare\n",
    "options.headless = False\n",
    "\n",
    "# Инициализируем undetected‑chromedriver\n",
    "driver = uc.Chrome(options=options)\n",
    "\n",
    "for doc in tqdm(documents):\n",
    "    url = doc['link']\n",
    "    name = doc['name']\n",
    "\n",
    "    # Сохраняем список файлов в папке загрузок до начала скачивания\n",
    "    before = set(os.listdir(download_dir))\n",
    "\n",
    "    # Переходим по ссылке документа\n",
    "    driver.get(url)\n",
    "\n",
    "    # Ждём, пока начнётся загрузка файла (при необходимости можно увеличить задержку)\n",
    "    time.sleep(5)\n",
    "\n",
    "    # Ожидаем появления нового файла в папке загрузок\n",
    "    new_file = wait_for_new_file(before, download_dir, timeout=30)\n",
    "    if new_file:\n",
    "        # Определяем расширение файла\n",
    "        ext = os.path.splitext(new_file)[1]\n",
    "        # Формируем \"безопасное\" имя файла из значения словаря\n",
    "        safe_name = \"\".join(c for c in name if c not in r'\\/:*?\"<>|')\n",
    "        new_name = safe_name + ext\n",
    "        old_path = os.path.join(download_dir, new_file)\n",
    "        new_path = os.path.join(download_dir, new_name)\n",
    "\n",
    "        # Если файл с таким именем уже существует, можно его удалить (или применить другой способ обработки)\n",
    "        if os.path.exists(new_path):\n",
    "            os.remove(new_path)\n",
    "\n",
    "        os.rename(old_path, new_path)\n",
    "        print(f\"Скачан: {new_path}\")\n",
    "    else:\n",
    "        print(f\"Не удалось скачать файл по ссылке: {url}\")\n",
    "\n",
    "driver.quit()\n"
   ],
   "id": "a4c7614c310d48ff",
   "outputs": [
    {
     "name": "stderr",
     "output_type": "stream",
     "text": [
      "  4%|▎         | 1/28 [00:05<02:30,  5.56s/it]"
     ]
    },
    {
     "name": "stdout",
     "output_type": "stream",
     "text": [
      "Скачан: /Users/antonnovokhatskiy/Desktop/33/health/prepare_data/documents/003.002 ebm00787 Втома.pdf\n"
     ]
    },
    {
     "name": "stderr",
     "output_type": "stream",
     "text": [
      "  7%|▋         | 2/28 [00:10<02:21,  5.46s/it]"
     ]
    },
    {
     "name": "stdout",
     "output_type": "stream",
     "text": [
      "Скачан: /Users/antonnovokhatskiy/Desktop/33/health/prepare_data/documents/003.003 ebm00931 Хронічний біль.pdf\n"
     ]
    },
    {
     "name": "stderr",
     "output_type": "stream",
     "text": [
      " 11%|█         | 3/28 [00:16<02:15,  5.41s/it]"
     ]
    },
    {
     "name": "stdout",
     "output_type": "stream",
     "text": [
      "Скачан: /Users/antonnovokhatskiy/Desktop/33/health/prepare_data/documents/003.004 ebm00167 Ненавмисна втрата ваги у дорослих.pdf\n"
     ]
    },
    {
     "name": "stderr",
     "output_type": "stream",
     "text": [
      " 14%|█▍        | 4/28 [00:21<02:09,  5.39s/it]"
     ]
    },
    {
     "name": "stdout",
     "output_type": "stream",
     "text": [
      "Скачан: /Users/antonnovokhatskiy/Desktop/33/health/prepare_data/documents/003.005 ebm00264 Свербіж.pdf\n"
     ]
    },
    {
     "name": "stderr",
     "output_type": "stream",
     "text": [
      " 18%|█▊        | 5/28 [00:27<02:05,  5.46s/it]"
     ]
    },
    {
     "name": "stdout",
     "output_type": "stream",
     "text": [
      "Скачан: /Users/antonnovokhatskiy/Desktop/33/health/prepare_data/documents/003.006 ebm00172 Нудота та блювання.pdf\n"
     ]
    },
    {
     "name": "stderr",
     "output_type": "stream",
     "text": [
      " 21%|██▏       | 6/28 [00:32<01:59,  5.44s/it]"
     ]
    },
    {
     "name": "stdout",
     "output_type": "stream",
     "text": [
      "Скачан: /Users/antonnovokhatskiy/Desktop/33/health/prepare_data/documents/003.007 ebm00168 Дисфагія та відчуття клубка в горлі (globus pharyngeus).pdf\n"
     ]
    },
    {
     "name": "stderr",
     "output_type": "stream",
     "text": [
      " 25%|██▌       | 7/28 [00:38<01:53,  5.42s/it]"
     ]
    },
    {
     "name": "stdout",
     "output_type": "stream",
     "text": [
      "Скачан: /Users/antonnovokhatskiy/Desktop/33/health/prepare_data/documents/003.011 ebm00499 Оцінка пацієнта з ожирінням.pdf\n"
     ]
    },
    {
     "name": "stderr",
     "output_type": "stream",
     "text": [
      " 29%|██▊       | 8/28 [00:43<01:48,  5.40s/it]"
     ]
    },
    {
     "name": "stdout",
     "output_type": "stream",
     "text": [
      "Скачан: /Users/antonnovokhatskiy/Desktop/33/health/prepare_data/documents/003.012 ebm00500 Лікування ожиріння.pdf\n"
     ]
    },
    {
     "name": "stderr",
     "output_type": "stream",
     "text": [
      " 32%|███▏      | 9/28 [00:48<01:42,  5.40s/it]"
     ]
    },
    {
     "name": "stdout",
     "output_type": "stream",
     "text": [
      "Скачан: /Users/antonnovokhatskiy/Desktop/33/health/prepare_data/documents/003.015 ebm00745 Запаморочення.pdf\n"
     ]
    },
    {
     "name": "stderr",
     "output_type": "stream",
     "text": [
      " 36%|███▌      | 10/28 [00:54<01:37,  5.41s/it]"
     ]
    },
    {
     "name": "stdout",
     "output_type": "stream",
     "text": [
      "Скачан: /Users/antonnovokhatskiy/Desktop/33/health/prepare_data/documents/003.016 ebm00743 Головний біль.pdf\n"
     ]
    },
    {
     "name": "stderr",
     "output_type": "stream",
     "text": [
      " 39%|███▉      | 11/28 [00:59<01:31,  5.39s/it]"
     ]
    },
    {
     "name": "stdout",
     "output_type": "stream",
     "text": [
      "Скачан: /Users/antonnovokhatskiy/Desktop/33/health/prepare_data/documents/003.017 ebm01024 Міокімія повіки.pdf\n"
     ]
    },
    {
     "name": "stderr",
     "output_type": "stream",
     "text": [
      " 43%|████▎     | 12/28 [01:04<01:25,  5.37s/it]"
     ]
    },
    {
     "name": "stdout",
     "output_type": "stream",
     "text": [
      "Скачан: /Users/antonnovokhatskiy/Desktop/33/health/prepare_data/documents/003.020 ebm00809 Синдром сухого ока.pdf\n"
     ]
    },
    {
     "name": "stderr",
     "output_type": "stream",
     "text": [
      " 46%|████▋     | 13/28 [01:10<01:20,  5.40s/it]"
     ]
    },
    {
     "name": "stdout",
     "output_type": "stream",
     "text": [
      "Скачан: /Users/antonnovokhatskiy/Desktop/33/health/prepare_data/documents/003.021 ebm00860 Закладеність носа.pdf\n"
     ]
    },
    {
     "name": "stderr",
     "output_type": "stream",
     "text": [
      " 50%|█████     | 14/28 [01:15<01:15,  5.39s/it]"
     ]
    },
    {
     "name": "stdout",
     "output_type": "stream",
     "text": [
      "Скачан: /Users/antonnovokhatskiy/Desktop/33/health/prepare_data/documents/003.025 ebm00146 Ксеростомія.pdf\n"
     ]
    },
    {
     "name": "stderr",
     "output_type": "stream",
     "text": [
      " 54%|█████▎    | 15/28 [01:21<01:10,  5.41s/it]"
     ]
    },
    {
     "name": "stdout",
     "output_type": "stream",
     "text": [
      "Скачан: /Users/antonnovokhatskiy/Desktop/33/health/prepare_data/documents/003.026 ebm00148 Неприємний запах з рота (галітоз).pdf\n"
     ]
    },
    {
     "name": "stderr",
     "output_type": "stream",
     "text": [
      " 57%|█████▋    | 16/28 [01:26<01:04,  5.39s/it]"
     ]
    },
    {
     "name": "stdout",
     "output_type": "stream",
     "text": [
      "Скачан: /Users/antonnovokhatskiy/Desktop/33/health/prepare_data/documents/003.027 ebm00171 Кінетоз (хвороба захитування).pdf\n"
     ]
    },
    {
     "name": "stderr",
     "output_type": "stream",
     "text": [
      " 61%|██████    | 17/28 [01:31<00:59,  5.38s/it]"
     ]
    },
    {
     "name": "stdout",
     "output_type": "stream",
     "text": [
      "Скачан: /Users/antonnovokhatskiy/Desktop/33/health/prepare_data/documents/003.028 ebm01054 Гикавка.pdf\n"
     ]
    },
    {
     "name": "stderr",
     "output_type": "stream",
     "text": [
      " 64%|██████▍   | 18/28 [01:37<00:53,  5.38s/it]"
     ]
    },
    {
     "name": "stdout",
     "output_type": "stream",
     "text": [
      "Скачан: /Users/antonnovokhatskiy/Desktop/33/health/prepare_data/documents/003.030 ebm00115 Хронічний кашель у дорослих.pdf\n"
     ]
    },
    {
     "name": "stderr",
     "output_type": "stream",
     "text": [
      " 68%|██████▊   | 19/28 [01:42<00:48,  5.37s/it]"
     ]
    },
    {
     "name": "stdout",
     "output_type": "stream",
     "text": [
      "Скачан: /Users/antonnovokhatskiy/Desktop/33/health/prepare_data/documents/003.031 ebm00113 Задишка.pdf\n"
     ]
    },
    {
     "name": "stderr",
     "output_type": "stream",
     "text": [
      " 71%|███████▏  | 20/28 [01:47<00:42,  5.36s/it]"
     ]
    },
    {
     "name": "stdout",
     "output_type": "stream",
     "text": [
      "Скачан: /Users/antonnovokhatskiy/Desktop/33/health/prepare_data/documents/003.032 ebm00006 Інфекції дихальних шляхів у дорослих.pdf\n"
     ]
    },
    {
     "name": "stderr",
     "output_type": "stream",
     "text": [
      " 75%|███████▌  | 21/28 [01:53<00:37,  5.37s/it]"
     ]
    },
    {
     "name": "stdout",
     "output_type": "stream",
     "text": [
      "Скачан: /Users/antonnovokhatskiy/Desktop/33/health/prepare_data/documents/003.035 ebm00186 Диспепсія.pdf\n"
     ]
    },
    {
     "name": "stderr",
     "output_type": "stream",
     "text": [
      " 79%|███████▊  | 22/28 [01:58<00:32,  5.35s/it]"
     ]
    },
    {
     "name": "stdout",
     "output_type": "stream",
     "text": [
      "Скачан: /Users/antonnovokhatskiy/Desktop/33/health/prepare_data/documents/003.040 ebm01020 Часте сечовипускання (полакіурія) і ніктурія.pdf\n"
     ]
    },
    {
     "name": "stderr",
     "output_type": "stream",
     "text": [
      " 82%|████████▏ | 23/28 [02:03<00:26,  5.35s/it]"
     ]
    },
    {
     "name": "stdout",
     "output_type": "stream",
     "text": [
      "Скачан: /Users/antonnovokhatskiy/Desktop/33/health/prepare_data/documents/003.045 ebm00099 Набряк ніг.pdf\n"
     ]
    },
    {
     "name": "stderr",
     "output_type": "stream",
     "text": [
      " 86%|████████▌ | 24/28 [02:09<00:21,  5.35s/it]"
     ]
    },
    {
     "name": "stdout",
     "output_type": "stream",
     "text": [
      "Скачан: /Users/antonnovokhatskiy/Desktop/33/health/prepare_data/documents/003.046 ebm01087 Судоми ніг.pdf\n"
     ]
    },
    {
     "name": "stderr",
     "output_type": "stream",
     "text": [
      " 89%|████████▉ | 25/28 [02:14<00:16,  5.35s/it]"
     ]
    },
    {
     "name": "stdout",
     "output_type": "stream",
     "text": [
      "Скачан: /Users/antonnovokhatskiy/Desktop/33/health/prepare_data/documents/003.047 ebm00100 Біль в гомілках.pdf\n"
     ]
    },
    {
     "name": "stderr",
     "output_type": "stream",
     "text": [
      " 93%|█████████▎| 26/28 [02:20<00:10,  5.35s/it]"
     ]
    },
    {
     "name": "stdout",
     "output_type": "stream",
     "text": [
      "Скачан: /Users/antonnovokhatskiy/Desktop/33/health/prepare_data/documents/003.048 ebm00984 Cкелетно-м'язовий біль.pdf\n"
     ]
    },
    {
     "name": "stderr",
     "output_type": "stream",
     "text": [
      " 96%|█████████▋| 27/28 [02:25<00:05,  5.35s/it]"
     ]
    },
    {
     "name": "stdout",
     "output_type": "stream",
     "text": [
      "Скачан: /Users/antonnovokhatskiy/Desktop/33/health/prepare_data/documents/003.060 ebm01142 Роль мотиваційного інтерв’ю у лікуванні та модифікації способу життя.pdf\n"
     ]
    },
    {
     "name": "stderr",
     "output_type": "stream",
     "text": [
      "100%|██████████| 28/28 [02:30<00:00,  5.38s/it]"
     ]
    },
    {
     "name": "stdout",
     "output_type": "stream",
     "text": [
      "Скачан: /Users/antonnovokhatskiy/Desktop/33/health/prepare_data/documents/038.020 ebm00007 Фарингіт і тонзиліт.pdf\n"
     ]
    },
    {
     "name": "stderr",
     "output_type": "stream",
     "text": [
      "\n"
     ]
    }
   ],
   "execution_count": 17
  },
  {
   "metadata": {},
   "cell_type": "code",
   "source": "",
   "id": "e53f78cacdee70bb",
   "outputs": [],
   "execution_count": null
  }
 ],
 "metadata": {
  "kernelspec": {
   "display_name": "Python 3",
   "language": "python",
   "name": "python3"
  },
  "language_info": {
   "codemirror_mode": {
    "name": "ipython",
    "version": 2
   },
   "file_extension": ".py",
   "mimetype": "text/x-python",
   "name": "python",
   "nbconvert_exporter": "python",
   "pygments_lexer": "ipython2",
   "version": "2.7.6"
  }
 },
 "nbformat": 4,
 "nbformat_minor": 5
}
